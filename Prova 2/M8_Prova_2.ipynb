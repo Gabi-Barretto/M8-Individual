{
  "cells": [
    {
      "cell_type": "code",
      "source": [
        "pip install git+https://github.com/suno-ai/bark.git"
      ],
      "metadata": {
        "id": "gCl63Hbg6w73"
      },
      "execution_count": null,
      "outputs": []
    },
    {
      "cell_type": "code",
      "source": [
        "from bark import SAMPLE_RATE, generate_audio, preload_models\n",
        "\n",
        "def synthesize_audio(text):\n",
        "    preload_models()\n",
        "    audio_array = generate_audio(text)\n",
        "    return audio_array"
      ],
      "metadata": {
        "id": "TK4ykLg95y06"
      },
      "execution_count": 20,
      "outputs": []
    },
    {
      "cell_type": "code",
      "source": [
        "from scipy.io.wavfile import write as write_wav\n",
        "\n",
        "def save_speech_to_file(audio_array, file_name):\n",
        "    write_wav(file_name, SAMPLE_RATE, audio_array)\n",
        "    return"
      ],
      "metadata": {
        "id": "PUPoqUO-yYtM"
      },
      "execution_count": 19,
      "outputs": []
    },
    {
      "cell_type": "code",
      "source": [
        "from IPython.display import Audio, display\n",
        "\n",
        "def dp(audio):\n",
        "    display(Audio(audio, rate=SAMPLE_RATE))\n",
        "    return"
      ],
      "metadata": {
        "id": "GuI3DXv0tVv0"
      },
      "execution_count": 18,
      "outputs": []
    },
    {
      "cell_type": "code",
      "source": [
        "from IPython.display import clear_output\n",
        "import time\n",
        "\n",
        "def main():\n",
        "\n",
        "    while True:\n",
        "        frase = input(\"Frase para transformar em audio: \")\n",
        "        nome = input(\"Nome para salvar sua frase em audio!: \")\n",
        "\n",
        "        audio = synthesize_audio(frase)\n",
        "\n",
        "        save_speech_to_file(audio, nome + \".wav\")\n",
        "\n",
        "        dp(audio)\n",
        "\n",
        "        time.sleep(10)\n",
        "\n",
        "        clear_output(wait=False)\n",
        "\n",
        "\n",
        "if __name__ == \"__main__\":\n",
        "    main()\n"
      ],
      "metadata": {
        "id": "dHUoOcKO6nvj"
      },
      "execution_count": null,
      "outputs": []
    }
  ],
  "metadata": {
    "colab": {
      "provenance": [],
      "gpuType": "T4"
    },
    "kernelspec": {
      "display_name": "Python 3",
      "name": "python3"
    },
    "language_info": {
      "name": "python"
    },
    "accelerator": "GPU"
  },
  "nbformat": 4,
  "nbformat_minor": 0
}